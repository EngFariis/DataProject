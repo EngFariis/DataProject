{
 "cells": [
  {
   "cell_type": "code",
   "execution_count": 8,
   "metadata": {},
   "outputs": [],
   "source": [
    "# import library, pandas to read the dataset, matplotlib to visualize data, and re to clean the text \n",
    "import pandas as pd\n",
    "import matplotlib.pyplot as plt\n",
    "import re\n",
    "from nltk.corpus import stopwords\n",
    "from nltk.stem import WordNetLemmatizer"
   ]
  },
  {
   "cell_type": "markdown",
   "metadata": {},
   "source": [
    "# Collect and Explore The Data"
   ]
  },
  {
   "cell_type": "code",
   "execution_count": 48,
   "metadata": {},
   "outputs": [],
   "source": [
    "df = pd.read_csv('../project/Dataset Ministry of Hajj and Umrah Medina.csv')"
   ]
  },
  {
   "cell_type": "code",
   "execution_count": 49,
   "metadata": {},
   "outputs": [
    {
     "data": {
      "text/html": [
       "<div>\n",
       "<style scoped>\n",
       "    .dataframe tbody tr th:only-of-type {\n",
       "        vertical-align: middle;\n",
       "    }\n",
       "\n",
       "    .dataframe tbody tr th {\n",
       "        vertical-align: top;\n",
       "    }\n",
       "\n",
       "    .dataframe thead th {\n",
       "        text-align: right;\n",
       "    }\n",
       "</style>\n",
       "<table border=\"1\" class=\"dataframe\">\n",
       "  <thead>\n",
       "    <tr style=\"text-align: right;\">\n",
       "      <th></th>\n",
       "      <th>NO_</th>\n",
       "      <th>RESERVATION_NO</th>\n",
       "      <th>Permit_No</th>\n",
       "      <th>DATE_</th>\n",
       "      <th>TIME_FROM</th>\n",
       "      <th>TIME_TO</th>\n",
       "      <th>SEX_</th>\n",
       "      <th>AGE_</th>\n",
       "      <th>Assembly_POINT</th>\n",
       "      <th>Permit_KIND</th>\n",
       "    </tr>\n",
       "  </thead>\n",
       "  <tbody>\n",
       "    <tr>\n",
       "      <th>0</th>\n",
       "      <td>1</td>\n",
       "      <td>47851116</td>\n",
       "      <td>94938233</td>\n",
       "      <td>06/09/2021</td>\n",
       "      <td>6:00 PM</td>\n",
       "      <td>9:00 PM</td>\n",
       "      <td>MALE</td>\n",
       "      <td>55</td>\n",
       "      <td>Bab Al Salam Square</td>\n",
       "      <td>Visiting the Prophet Muhammed</td>\n",
       "    </tr>\n",
       "    <tr>\n",
       "      <th>1</th>\n",
       "      <td>2</td>\n",
       "      <td>47851116</td>\n",
       "      <td>94938234</td>\n",
       "      <td>06/09/2021</td>\n",
       "      <td>6:00 PM</td>\n",
       "      <td>9:00 PM</td>\n",
       "      <td>FEMALE</td>\n",
       "      <td>22</td>\n",
       "      <td>Bab Al Salam Square</td>\n",
       "      <td>Visiting the Prophet Muhammed</td>\n",
       "    </tr>\n",
       "    <tr>\n",
       "      <th>2</th>\n",
       "      <td>3</td>\n",
       "      <td>47851116</td>\n",
       "      <td>94938235</td>\n",
       "      <td>06/09/2021</td>\n",
       "      <td>6:00 PM</td>\n",
       "      <td>9:00 PM</td>\n",
       "      <td>FEMALE</td>\n",
       "      <td>25</td>\n",
       "      <td>Bab Al Salam Square</td>\n",
       "      <td>Visiting the Prophet Muhammed</td>\n",
       "    </tr>\n",
       "    <tr>\n",
       "      <th>3</th>\n",
       "      <td>4</td>\n",
       "      <td>47851117</td>\n",
       "      <td>94938236</td>\n",
       "      <td>06/09/2021</td>\n",
       "      <td>6:00 PM</td>\n",
       "      <td>9:00 PM</td>\n",
       "      <td>FEMALE</td>\n",
       "      <td>25</td>\n",
       "      <td>Bab Al Salam Square</td>\n",
       "      <td>Visiting the Prophet Muhammed</td>\n",
       "    </tr>\n",
       "    <tr>\n",
       "      <th>4</th>\n",
       "      <td>5</td>\n",
       "      <td>47851118</td>\n",
       "      <td>94938237</td>\n",
       "      <td>06/09/2021</td>\n",
       "      <td>6:00 PM</td>\n",
       "      <td>9:00 PM</td>\n",
       "      <td>FEMALE</td>\n",
       "      <td>32</td>\n",
       "      <td>Bab Al Salam Square</td>\n",
       "      <td>Visiting the Prophet Muhammed</td>\n",
       "    </tr>\n",
       "  </tbody>\n",
       "</table>\n",
       "</div>"
      ],
      "text/plain": [
       "   NO_  RESERVATION_NO  Permit_No       DATE_ TIME_FROM  TIME_TO    SEX_  \\\n",
       "0    1        47851116   94938233  06/09/2021   6:00 PM  9:00 PM    MALE   \n",
       "1    2        47851116   94938234  06/09/2021   6:00 PM  9:00 PM  FEMALE   \n",
       "2    3        47851116   94938235  06/09/2021   6:00 PM  9:00 PM  FEMALE   \n",
       "3    4        47851117   94938236  06/09/2021   6:00 PM  9:00 PM  FEMALE   \n",
       "4    5        47851118   94938237  06/09/2021   6:00 PM  9:00 PM  FEMALE   \n",
       "\n",
       "   AGE_       Assembly_POINT                    Permit_KIND  \n",
       "0    55  Bab Al Salam Square  Visiting the Prophet Muhammed  \n",
       "1    22  Bab Al Salam Square  Visiting the Prophet Muhammed  \n",
       "2    25  Bab Al Salam Square  Visiting the Prophet Muhammed  \n",
       "3    25  Bab Al Salam Square  Visiting the Prophet Muhammed  \n",
       "4    32  Bab Al Salam Square  Visiting the Prophet Muhammed  "
      ]
     },
     "execution_count": 49,
     "metadata": {},
     "output_type": "execute_result"
    }
   ],
   "source": [
    "#show first five dataframe content \n",
    "df.head()"
   ]
  },
  {
   "cell_type": "code",
   "execution_count": 50,
   "metadata": {},
   "outputs": [
    {
     "name": "stdout",
     "output_type": "stream",
     "text": [
      "<class 'pandas.core.frame.DataFrame'>\n",
      "RangeIndex: 3544 entries, 0 to 3543\n",
      "Data columns (total 10 columns):\n",
      " #   Column          Non-Null Count  Dtype \n",
      "---  ------          --------------  ----- \n",
      " 0   NO_             3544 non-null   int64 \n",
      " 1   RESERVATION_NO  3544 non-null   int64 \n",
      " 2   Permit_No       3544 non-null   int64 \n",
      " 3   DATE_           3544 non-null   object\n",
      " 4   TIME_FROM       3544 non-null   object\n",
      " 5   TIME_TO         3544 non-null   object\n",
      " 6   SEX_            3544 non-null   object\n",
      " 7   AGE_            3544 non-null   int64 \n",
      " 8   Assembly_POINT  3544 non-null   object\n",
      " 9   Permit_KIND     3544 non-null   object\n",
      "dtypes: int64(4), object(6)\n",
      "memory usage: 277.0+ KB\n"
     ]
    }
   ],
   "source": [
    "# explore the data type at each series\n",
    "df.info()"
   ]
  },
  {
   "cell_type": "code",
   "execution_count": 23,
   "metadata": {},
   "outputs": [
    {
     "data": {
      "text/plain": [
       "NO_               0\n",
       "RESERVATION_NO    0\n",
       "Permit_No         0\n",
       "DATE_             0\n",
       "TIME_FROM         0\n",
       "TIME_TO           0\n",
       "SEX_              0\n",
       "AGE_              0\n",
       "Assembly_POINT    0\n",
       "Permit_KIND       0\n",
       "dtype: int64"
      ]
     },
     "execution_count": 23,
     "metadata": {},
     "output_type": "execute_result"
    }
   ],
   "source": [
    "# check to null values \n",
    "df.isna().sum()"
   ]
  },
  {
   "cell_type": "code",
   "execution_count": 26,
   "metadata": {},
   "outputs": [
    {
     "data": {
      "text/plain": [
       "Index(['NO_', 'RESERVATION_NO', 'Permit_No', 'DATE_', 'TIME_FROM', 'TIME_TO',\n",
       "       'SEX_', 'AGE_', 'Assembly_POINT', 'Permit_KIND'],\n",
       "      dtype='object')"
      ]
     },
     "execution_count": 26,
     "metadata": {},
     "output_type": "execute_result"
    }
   ],
   "source": [
    "# check on columns \n",
    "df.columns"
   ]
  },
  {
   "cell_type": "code",
   "execution_count": 42,
   "metadata": {},
   "outputs": [],
   "source": [
    "# convert the date into datetime object \n",
    "df['DATE_'] = pd.to_datetime(df['DATE_']).dt.date"
   ]
  },
  {
   "cell_type": "code",
   "execution_count": 30,
   "metadata": {},
   "outputs": [
    {
     "data": {
      "text/plain": [
       "Visiting the Prophet Muhammed     2836\n",
       "Prayer in the Prophet's Mosque     708\n",
       "Name: Permit_KIND, dtype: int64"
      ]
     },
     "execution_count": 30,
     "metadata": {},
     "output_type": "execute_result"
    }
   ],
   "source": [
    "# counting the RESERVATION values of Places\n",
    "df['Permit_KIND'].value_counts()"
   ]
  },
  {
   "cell_type": "code",
   "execution_count": 38,
   "metadata": {},
   "outputs": [
    {
     "data": {
      "image/png": "[encoded data removed]",
      "text/plain": [
       "<Figure size 1080x720 with 1 Axes>"
      ]
     },
     "metadata": {
      "needs_background": "light"
     },
     "output_type": "display_data"
    }
   ],
   "source": [
    "plt.figure(figsize=(15,10))\n",
    "df['AGE_'].value_counts().nlargest(20).plot(kind='bar')\n",
    "plt.xticks(rotation=90)\n",
    "plt.title('Number Of Reservation ')\n",
    "plt.xlabel('AGE')\n",
    "plt.ylabel(' Reservation ');"
   ]
  },
  {
   "cell_type": "markdown",
   "metadata": {},
   "source": [
    "The figure of Number Of Reservation shows that most bookings were people 58 years old"
   ]
  },
  {
   "cell_type": "code",
   "execution_count": 40,
   "metadata": {},
   "outputs": [
    {
     "data": {
      "image/png": "[encoded data removed]",
      "text/plain": [
       "<Figure size 1080x720 with 1 Axes>"
      ]
     },
     "metadata": {
      "needs_background": "light"
     },
     "output_type": "display_data"
    }
   ],
   "source": [
    "#Visualizing Tweet Platform-wise Distribution \n",
    "plt.figure(figsize=(15,10))\n",
    "df['Permit_KIND'].value_counts().nlargest(12).plot(kind='bar')\n",
    "plt.xticks(rotation=90)\n",
    "plt.title('Reservation area')\n",
    "plt.xlabel('Area')\n",
    "plt.ylabel('Number Of Reservations');\n"
   ]
  },
  {
   "cell_type": "code",
   "execution_count": 62,
   "metadata": {},
   "outputs": [
    {
     "data": {
      "image/png": "[encoded data removed]",
      "text/plain": [
       "<Figure size 2160x1800 with 1 Axes>"
      ]
     },
     "metadata": {
      "needs_background": "light"
     },
     "output_type": "display_data"
    }
   ],
   "source": [
    "plt.figure(figsize=(30,25))\n",
    "for i, group in df.groupby('DATE_'):\n",
    "    plt.bar(group['DATE_'].iloc[0],group['Assembly_POINT'].count())\n",
    "plt.ylabel('Number Of Reservations')\n",
    "plt.xlabel('DATE')\n",
    "plt.title('Reservations/Day'); "
   ]
  },
  {
   "cell_type": "code",
   "execution_count": null,
   "metadata": {},
   "outputs": [],
   "source": []
  }
 ],
 "metadata": {
  "interpreter": {
   "hash": "430da8c8ffd01e1807dad81ebd421ee85c0d18a630f6ee3d73295c31524e188c"
  },
  "kernelspec": {
   "display_name": "Python 3",
   "language": "python",
   "name": "python3"
  },
  "language_info": {
   "codemirror_mode": {
    "name": "ipython",
    "version": 3
   },
   "file_extension": ".py",
   "mimetype": "text/x-python",
   "name": "python",
   "nbconvert_exporter": "python",
   "pygments_lexer": "ipython3",
   "version": "3.8.8"
  }
 },
 "nbformat": 4,
 "nbformat_minor": 2
}
