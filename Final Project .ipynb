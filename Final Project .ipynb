{
 "cells": [
  {
   "cell_type": "markdown",
   "id": "70b24947",
   "metadata": {},
   "source": [
    "# Introduction"
   ]
  },
  {
   "cell_type": "markdown",
   "id": "403602e0",
   "metadata": {},
   "source": [
    "Estimated daily visits to the Prophet's Mosque tens of thousands of people gather to pray and visit the tomb of the Prophet and peace be upon him. Early anticipation of visits can help to be well prepared, take precautions, and be more organized. The project aims to predict the number of visits, the age of visitors and the care they need."
   ]
  },
  {
   "cell_type": "markdown",
   "id": "e193b165",
   "metadata": {},
   "source": [
    "# Data"
   ]
  },
  {
   "cell_type": "markdown",
   "id": "89453190",
   "metadata": {},
   "source": [
    "The dataset is taken from the Ministry of Hajj and Umrah in Madinah, which is the number of people who visited the Prophet’s Mosque to pray and visit the Prophet Muhammad."
   ]
  },
  {
   "cell_type": "markdown",
   "id": "c9eb100b",
   "metadata": {},
   "source": [
    "# ** Data Preparation & Cleaning **\n"
   ]
  },
  {
   "cell_type": "code",
   "execution_count": 3,
   "id": "b92c88dc",
   "metadata": {},
   "outputs": [],
   "source": [
    "import numpy as np\n",
    "import pandas as pd\n",
    "import matplotlib.pyplot as plt\n",
    "import seaborn as sns\n",
    "from sklearn.linear_model import LogisticRegression\n",
    "\n",
    "%matplotlib inline\n",
    "\n",
    "from sklearn.model_selection import train_test_split"
   ]
  },
  {
   "cell_type": "code",
   "execution_count": 4,
   "id": "e9a2b727",
   "metadata": {
    "scrolled": true
   },
   "outputs": [
    {
     "data": {
      "text/html": [
       "<div>\n",
       "<style scoped>\n",
       "    .dataframe tbody tr th:only-of-type {\n",
       "        vertical-align: middle;\n",
       "    }\n",
       "\n",
       "    .dataframe tbody tr th {\n",
       "        vertical-align: top;\n",
       "    }\n",
       "\n",
       "    .dataframe thead th {\n",
       "        text-align: right;\n",
       "    }\n",
       "</style>\n",
       "<table border=\"1\" class=\"dataframe\">\n",
       "  <thead>\n",
       "    <tr style=\"text-align: right;\">\n",
       "      <th></th>\n",
       "      <th>NO</th>\n",
       "      <th>RESERVATION_NO</th>\n",
       "      <th>Permit_No</th>\n",
       "      <th>DATE</th>\n",
       "      <th>TIME_FROM</th>\n",
       "      <th>TIME_TO</th>\n",
       "      <th>SEX</th>\n",
       "      <th>AGE</th>\n",
       "      <th>Assembly_POINT</th>\n",
       "      <th>Permit_KIND</th>\n",
       "      <th>Care</th>\n",
       "    </tr>\n",
       "  </thead>\n",
       "  <tbody>\n",
       "    <tr>\n",
       "      <th>0</th>\n",
       "      <td>1</td>\n",
       "      <td>47851116</td>\n",
       "      <td>94938233</td>\n",
       "      <td>06/09/2021</td>\n",
       "      <td>6:00 PM</td>\n",
       "      <td>9:00 PM</td>\n",
       "      <td>MALE</td>\n",
       "      <td>55</td>\n",
       "      <td>Bab Al Salam Square</td>\n",
       "      <td>Visiting the Prophet Muhammed</td>\n",
       "      <td>1</td>\n",
       "    </tr>\n",
       "    <tr>\n",
       "      <th>1</th>\n",
       "      <td>2</td>\n",
       "      <td>47851116</td>\n",
       "      <td>94938234</td>\n",
       "      <td>06/09/2021</td>\n",
       "      <td>6:00 PM</td>\n",
       "      <td>9:00 PM</td>\n",
       "      <td>FEMALE</td>\n",
       "      <td>22</td>\n",
       "      <td>Bab Al Salam Square</td>\n",
       "      <td>Visiting the Prophet Muhammed</td>\n",
       "      <td>0</td>\n",
       "    </tr>\n",
       "    <tr>\n",
       "      <th>2</th>\n",
       "      <td>3</td>\n",
       "      <td>47851116</td>\n",
       "      <td>94938235</td>\n",
       "      <td>06/09/2021</td>\n",
       "      <td>6:00 PM</td>\n",
       "      <td>9:00 PM</td>\n",
       "      <td>FEMALE</td>\n",
       "      <td>25</td>\n",
       "      <td>Bab Al Salam Square</td>\n",
       "      <td>Visiting the Prophet Muhammed</td>\n",
       "      <td>0</td>\n",
       "    </tr>\n",
       "    <tr>\n",
       "      <th>3</th>\n",
       "      <td>4</td>\n",
       "      <td>47851117</td>\n",
       "      <td>94938236</td>\n",
       "      <td>06/09/2021</td>\n",
       "      <td>6:00 PM</td>\n",
       "      <td>9:00 PM</td>\n",
       "      <td>FEMALE</td>\n",
       "      <td>25</td>\n",
       "      <td>Bab Al Salam Square</td>\n",
       "      <td>Visiting the Prophet Muhammed</td>\n",
       "      <td>0</td>\n",
       "    </tr>\n",
       "    <tr>\n",
       "      <th>4</th>\n",
       "      <td>5</td>\n",
       "      <td>47851118</td>\n",
       "      <td>94938237</td>\n",
       "      <td>06/09/2021</td>\n",
       "      <td>6:00 PM</td>\n",
       "      <td>9:00 PM</td>\n",
       "      <td>FEMALE</td>\n",
       "      <td>32</td>\n",
       "      <td>Bab Al Salam Square</td>\n",
       "      <td>Visiting the Prophet Muhammed</td>\n",
       "      <td>0</td>\n",
       "    </tr>\n",
       "    <tr>\n",
       "      <th>5</th>\n",
       "      <td>6</td>\n",
       "      <td>47851119</td>\n",
       "      <td>94938238</td>\n",
       "      <td>06/09/2021</td>\n",
       "      <td>6:00 PM</td>\n",
       "      <td>9:00 PM</td>\n",
       "      <td>MALE</td>\n",
       "      <td>55</td>\n",
       "      <td>Bab Al Salam Square</td>\n",
       "      <td>Visiting the Prophet Muhammed</td>\n",
       "      <td>1</td>\n",
       "    </tr>\n",
       "    <tr>\n",
       "      <th>6</th>\n",
       "      <td>7</td>\n",
       "      <td>47851120</td>\n",
       "      <td>94938239</td>\n",
       "      <td>06/09/2021</td>\n",
       "      <td>6:00 PM</td>\n",
       "      <td>9:00 PM</td>\n",
       "      <td>MALE</td>\n",
       "      <td>22</td>\n",
       "      <td>Bab Al Salam Square</td>\n",
       "      <td>Visiting the Prophet Muhammed</td>\n",
       "      <td>0</td>\n",
       "    </tr>\n",
       "    <tr>\n",
       "      <th>7</th>\n",
       "      <td>8</td>\n",
       "      <td>47851121</td>\n",
       "      <td>94938240</td>\n",
       "      <td>06/09/2021</td>\n",
       "      <td>6:00 PM</td>\n",
       "      <td>9:00 PM</td>\n",
       "      <td>MALE</td>\n",
       "      <td>40</td>\n",
       "      <td>Bab Al Salam Square</td>\n",
       "      <td>Visiting the Prophet Muhammed</td>\n",
       "      <td>0</td>\n",
       "    </tr>\n",
       "    <tr>\n",
       "      <th>8</th>\n",
       "      <td>9</td>\n",
       "      <td>47851122</td>\n",
       "      <td>94938241</td>\n",
       "      <td>06/09/2021</td>\n",
       "      <td>6:00 PM</td>\n",
       "      <td>9:00 PM</td>\n",
       "      <td>MALE</td>\n",
       "      <td>46</td>\n",
       "      <td>Bab Al Salam Square</td>\n",
       "      <td>Visiting the Prophet Muhammed</td>\n",
       "      <td>1</td>\n",
       "    </tr>\n",
       "    <tr>\n",
       "      <th>9</th>\n",
       "      <td>10</td>\n",
       "      <td>47851123</td>\n",
       "      <td>94938242</td>\n",
       "      <td>06/09/2021</td>\n",
       "      <td>6:00 PM</td>\n",
       "      <td>9:00 PM</td>\n",
       "      <td>MALE</td>\n",
       "      <td>44</td>\n",
       "      <td>Bab Al Salam Square</td>\n",
       "      <td>Visiting the Prophet Muhammed</td>\n",
       "      <td>1</td>\n",
       "    </tr>\n",
       "  </tbody>\n",
       "</table>\n",
       "</div>"
      ],
      "text/plain": [
       "   NO  RESERVATION_NO  Permit_No        DATE TIME_FROM  TIME_TO     SEX  AGE  \\\n",
       "0   1        47851116   94938233  06/09/2021   6:00 PM  9:00 PM    MALE   55   \n",
       "1   2        47851116   94938234  06/09/2021   6:00 PM  9:00 PM  FEMALE   22   \n",
       "2   3        47851116   94938235  06/09/2021   6:00 PM  9:00 PM  FEMALE   25   \n",
       "3   4        47851117   94938236  06/09/2021   6:00 PM  9:00 PM  FEMALE   25   \n",
       "4   5        47851118   94938237  06/09/2021   6:00 PM  9:00 PM  FEMALE   32   \n",
       "5   6        47851119   94938238  06/09/2021   6:00 PM  9:00 PM    MALE   55   \n",
       "6   7        47851120   94938239  06/09/2021   6:00 PM  9:00 PM    MALE   22   \n",
       "7   8        47851121   94938240  06/09/2021   6:00 PM  9:00 PM    MALE   40   \n",
       "8   9        47851122   94938241  06/09/2021   6:00 PM  9:00 PM    MALE   46   \n",
       "9  10        47851123   94938242  06/09/2021   6:00 PM  9:00 PM    MALE   44   \n",
       "\n",
       "        Assembly_POINT                    Permit_KIND  Care  \n",
       "0  Bab Al Salam Square  Visiting the Prophet Muhammed     1  \n",
       "1  Bab Al Salam Square  Visiting the Prophet Muhammed     0  \n",
       "2  Bab Al Salam Square  Visiting the Prophet Muhammed     0  \n",
       "3  Bab Al Salam Square  Visiting the Prophet Muhammed     0  \n",
       "4  Bab Al Salam Square  Visiting the Prophet Muhammed     0  \n",
       "5  Bab Al Salam Square  Visiting the Prophet Muhammed     1  \n",
       "6  Bab Al Salam Square  Visiting the Prophet Muhammed     0  \n",
       "7  Bab Al Salam Square  Visiting the Prophet Muhammed     0  \n",
       "8  Bab Al Salam Square  Visiting the Prophet Muhammed     1  \n",
       "9  Bab Al Salam Square  Visiting the Prophet Muhammed     1  "
      ]
     },
     "execution_count": 4,
     "metadata": {},
     "output_type": "execute_result"
    }
   ],
   "source": [
    "heart= pd.read_csv('Dataset Ministry of Hajj and Umrah Medina.csv')\n",
    "heart.head(10)"
   ]
  },
  {
   "cell_type": "raw",
   "id": "e53a3dd9",
   "metadata": {},
   "source": [
    "#features Description :#\n",
    "\n",
    "• Sex: male or female\n",
    "• Age: Age of the visitor\n",
    "• Assembly_POINT: It is the Assembly Point where visitors meet\n",
    "• Permit_KIND: This is where the visitor will go to\n"
   ]
  },
  {
   "cell_type": "code",
   "execution_count": 5,
   "id": "d7eca040",
   "metadata": {
    "scrolled": true
   },
   "outputs": [
    {
     "data": {
      "text/html": [
       "<div>\n",
       "<style scoped>\n",
       "    .dataframe tbody tr th:only-of-type {\n",
       "        vertical-align: middle;\n",
       "    }\n",
       "\n",
       "    .dataframe tbody tr th {\n",
       "        vertical-align: top;\n",
       "    }\n",
       "\n",
       "    .dataframe thead th {\n",
       "        text-align: right;\n",
       "    }\n",
       "</style>\n",
       "<table border=\"1\" class=\"dataframe\">\n",
       "  <thead>\n",
       "    <tr style=\"text-align: right;\">\n",
       "      <th></th>\n",
       "      <th>Permit_No</th>\n",
       "      <th>DATE</th>\n",
       "      <th>TIME_FROM</th>\n",
       "      <th>TIME_TO</th>\n",
       "      <th>SEX</th>\n",
       "      <th>AGE</th>\n",
       "      <th>Assembly_POINT</th>\n",
       "      <th>Permit_KIND</th>\n",
       "      <th>Care</th>\n",
       "    </tr>\n",
       "  </thead>\n",
       "  <tbody>\n",
       "    <tr>\n",
       "      <th>0</th>\n",
       "      <td>94938233</td>\n",
       "      <td>06/09/2021</td>\n",
       "      <td>6:00 PM</td>\n",
       "      <td>9:00 PM</td>\n",
       "      <td>MALE</td>\n",
       "      <td>55</td>\n",
       "      <td>Bab Al Salam Square</td>\n",
       "      <td>Visiting the Prophet Muhammed</td>\n",
       "      <td>1</td>\n",
       "    </tr>\n",
       "    <tr>\n",
       "      <th>1</th>\n",
       "      <td>94938234</td>\n",
       "      <td>06/09/2021</td>\n",
       "      <td>6:00 PM</td>\n",
       "      <td>9:00 PM</td>\n",
       "      <td>FEMALE</td>\n",
       "      <td>22</td>\n",
       "      <td>Bab Al Salam Square</td>\n",
       "      <td>Visiting the Prophet Muhammed</td>\n",
       "      <td>0</td>\n",
       "    </tr>\n",
       "    <tr>\n",
       "      <th>2</th>\n",
       "      <td>94938235</td>\n",
       "      <td>06/09/2021</td>\n",
       "      <td>6:00 PM</td>\n",
       "      <td>9:00 PM</td>\n",
       "      <td>FEMALE</td>\n",
       "      <td>25</td>\n",
       "      <td>Bab Al Salam Square</td>\n",
       "      <td>Visiting the Prophet Muhammed</td>\n",
       "      <td>0</td>\n",
       "    </tr>\n",
       "    <tr>\n",
       "      <th>3</th>\n",
       "      <td>94938236</td>\n",
       "      <td>06/09/2021</td>\n",
       "      <td>6:00 PM</td>\n",
       "      <td>9:00 PM</td>\n",
       "      <td>FEMALE</td>\n",
       "      <td>25</td>\n",
       "      <td>Bab Al Salam Square</td>\n",
       "      <td>Visiting the Prophet Muhammed</td>\n",
       "      <td>0</td>\n",
       "    </tr>\n",
       "    <tr>\n",
       "      <th>4</th>\n",
       "      <td>94938237</td>\n",
       "      <td>06/09/2021</td>\n",
       "      <td>6:00 PM</td>\n",
       "      <td>9:00 PM</td>\n",
       "      <td>FEMALE</td>\n",
       "      <td>32</td>\n",
       "      <td>Bab Al Salam Square</td>\n",
       "      <td>Visiting the Prophet Muhammed</td>\n",
       "      <td>0</td>\n",
       "    </tr>\n",
       "  </tbody>\n",
       "</table>\n",
       "</div>"
      ],
      "text/plain": [
       "   Permit_No        DATE TIME_FROM  TIME_TO     SEX  AGE       Assembly_POINT  \\\n",
       "0   94938233  06/09/2021   6:00 PM  9:00 PM    MALE   55  Bab Al Salam Square   \n",
       "1   94938234  06/09/2021   6:00 PM  9:00 PM  FEMALE   22  Bab Al Salam Square   \n",
       "2   94938235  06/09/2021   6:00 PM  9:00 PM  FEMALE   25  Bab Al Salam Square   \n",
       "3   94938236  06/09/2021   6:00 PM  9:00 PM  FEMALE   25  Bab Al Salam Square   \n",
       "4   94938237  06/09/2021   6:00 PM  9:00 PM  FEMALE   32  Bab Al Salam Square   \n",
       "\n",
       "                     Permit_KIND  Care  \n",
       "0  Visiting the Prophet Muhammed     1  \n",
       "1  Visiting the Prophet Muhammed     0  \n",
       "2  Visiting the Prophet Muhammed     0  \n",
       "3  Visiting the Prophet Muhammed     0  \n",
       "4  Visiting the Prophet Muhammed     0  "
      ]
     },
     "execution_count": 5,
     "metadata": {},
     "output_type": "execute_result"
    }
   ],
   "source": [
    "heart.drop(['NO','RESERVATION_NO'] , axis='columns', inplace=True)#uncessry\n",
    "heart.head()"
   ]
  },
  {
   "cell_type": "code",
   "execution_count": 6,
   "id": "90eeda2e",
   "metadata": {},
   "outputs": [
    {
     "data": {
      "image/png": "[encoded data removed]",
      "text/plain": [
       "<Figure size 432x432 with 4 Axes>"
      ]
     },
     "metadata": {
      "needs_background": "light"
     },
     "output_type": "display_data"
    }
   ],
   "source": [
    "g = sns.FacetGrid(heart, col='Care', row='SEX', margin_titles=True)\n",
    "g.map(plt.hist, 'AGE', color='red')\n",
    "plt.subplots_adjust(top=0.9)\n",
    "g.fig.suptitle('Visitors by Gender and Age');"
   ]
  },
  {
   "cell_type": "code",
   "execution_count": 38,
   "id": "2ee653b2",
   "metadata": {},
   "outputs": [
    {
     "data": {
      "text/plain": [
       "0    1773\n",
       "1    1771\n",
       "Name: Care, dtype: int64"
      ]
     },
     "execution_count": 38,
     "metadata": {},
     "output_type": "execute_result"
    }
   ],
   "source": [
    "df.Care.value_counts()#unbalanced !!"
   ]
  },
  {
   "cell_type": "code",
   "execution_count": 39,
   "id": "cd58e8e1",
   "metadata": {},
   "outputs": [],
   "source": [
    "h2 = pd.get_dummies(heart,\n",
    "                   columns = ['SEX', 'Care'])\n"
   ]
  },
  {
   "cell_type": "markdown",
   "id": "d797f2e0",
   "metadata": {},
   "source": [
    "### Statistical Summary:"
   ]
  },
  {
   "cell_type": "code",
   "execution_count": 40,
   "id": "dd428a8f",
   "metadata": {},
   "outputs": [
    {
     "data": {
      "text/html": [
       "<div>\n",
       "<style scoped>\n",
       "    .dataframe tbody tr th:only-of-type {\n",
       "        vertical-align: middle;\n",
       "    }\n",
       "\n",
       "    .dataframe tbody tr th {\n",
       "        vertical-align: top;\n",
       "    }\n",
       "\n",
       "    .dataframe thead th {\n",
       "        text-align: right;\n",
       "    }\n",
       "</style>\n",
       "<table border=\"1\" class=\"dataframe\">\n",
       "  <thead>\n",
       "    <tr style=\"text-align: right;\">\n",
       "      <th></th>\n",
       "      <th>NO</th>\n",
       "      <th>RESERVATION_NO</th>\n",
       "      <th>Permit_No</th>\n",
       "      <th>AGE</th>\n",
       "      <th>Care</th>\n",
       "      <th>log2_value1</th>\n",
       "    </tr>\n",
       "  </thead>\n",
       "  <tbody>\n",
       "    <tr>\n",
       "      <th>count</th>\n",
       "      <td>3544.000000</td>\n",
       "      <td>3.544000e+03</td>\n",
       "      <td>3.544000e+03</td>\n",
       "      <td>3544.000000</td>\n",
       "      <td>3544.000000</td>\n",
       "      <td>3544.000000</td>\n",
       "    </tr>\n",
       "    <tr>\n",
       "      <th>mean</th>\n",
       "      <td>1772.500000</td>\n",
       "      <td>3.119180e+08</td>\n",
       "      <td>9.494000e+07</td>\n",
       "      <td>50.860045</td>\n",
       "      <td>0.499718</td>\n",
       "      <td>27.548917</td>\n",
       "    </tr>\n",
       "    <tr>\n",
       "      <th>std</th>\n",
       "      <td>1023.209004</td>\n",
       "      <td>2.097795e+08</td>\n",
       "      <td>1.023209e+03</td>\n",
       "      <td>21.052416</td>\n",
       "      <td>0.500070</td>\n",
       "      <td>1.618113</td>\n",
       "    </tr>\n",
       "    <tr>\n",
       "      <th>min</th>\n",
       "      <td>1.000000</td>\n",
       "      <td>4.785112e+07</td>\n",
       "      <td>9.493823e+07</td>\n",
       "      <td>19.000000</td>\n",
       "      <td>0.000000</td>\n",
       "      <td>25.512049</td>\n",
       "    </tr>\n",
       "    <tr>\n",
       "      <th>25%</th>\n",
       "      <td>886.750000</td>\n",
       "      <td>4.785196e+07</td>\n",
       "      <td>9.493912e+07</td>\n",
       "      <td>28.000000</td>\n",
       "      <td>0.000000</td>\n",
       "      <td>25.512075</td>\n",
       "    </tr>\n",
       "    <tr>\n",
       "      <th>50%</th>\n",
       "      <td>1772.500000</td>\n",
       "      <td>4.785235e+08</td>\n",
       "      <td>9.494000e+07</td>\n",
       "      <td>55.000000</td>\n",
       "      <td>0.000000</td>\n",
       "      <td>28.834014</td>\n",
       "    </tr>\n",
       "    <tr>\n",
       "      <th>75%</th>\n",
       "      <td>2658.250000</td>\n",
       "      <td>4.785243e+08</td>\n",
       "      <td>9.494089e+07</td>\n",
       "      <td>65.000000</td>\n",
       "      <td>1.000000</td>\n",
       "      <td>28.834017</td>\n",
       "    </tr>\n",
       "    <tr>\n",
       "      <th>max</th>\n",
       "      <td>3544.000000</td>\n",
       "      <td>4.785249e+08</td>\n",
       "      <td>9.494178e+07</td>\n",
       "      <td>98.000000</td>\n",
       "      <td>1.000000</td>\n",
       "      <td>28.834019</td>\n",
       "    </tr>\n",
       "  </tbody>\n",
       "</table>\n",
       "</div>"
      ],
      "text/plain": [
       "                NO  RESERVATION_NO     Permit_No          AGE         Care  \\\n",
       "count  3544.000000    3.544000e+03  3.544000e+03  3544.000000  3544.000000   \n",
       "mean   1772.500000    3.119180e+08  9.494000e+07    50.860045     0.499718   \n",
       "std    1023.209004    2.097795e+08  1.023209e+03    21.052416     0.500070   \n",
       "min       1.000000    4.785112e+07  9.493823e+07    19.000000     0.000000   \n",
       "25%     886.750000    4.785196e+07  9.493912e+07    28.000000     0.000000   \n",
       "50%    1772.500000    4.785235e+08  9.494000e+07    55.000000     0.000000   \n",
       "75%    2658.250000    4.785243e+08  9.494089e+07    65.000000     1.000000   \n",
       "max    3544.000000    4.785249e+08  9.494178e+07    98.000000     1.000000   \n",
       "\n",
       "       log2_value1  \n",
       "count  3544.000000  \n",
       "mean     27.548917  \n",
       "std       1.618113  \n",
       "min      25.512049  \n",
       "25%      25.512075  \n",
       "50%      28.834014  \n",
       "75%      28.834017  \n",
       "max      28.834019  "
      ]
     },
     "execution_count": 40,
     "metadata": {},
     "output_type": "execute_result"
    }
   ],
   "source": [
    "df.describe()"
   ]
  },
  {
   "cell_type": "code",
   "execution_count": 17,
   "id": "407f1f0b",
   "metadata": {},
   "outputs": [
    {
     "data": {
      "text/plain": [
       "<AxesSubplot:>"
      ]
     },
     "execution_count": 17,
     "metadata": {},
     "output_type": "execute_result"
    },
    {
     "data": {
      "image/png": "[encoded data removed]",
      "text/plain": [
       "<Figure size 936x360 with 2 Axes>"
      ]
     },
     "metadata": {
      "needs_background": "light"
     },
     "output_type": "display_data"
    }
   ],
   "source": [
    "plt.figure(figsize=[13,5])\n",
    "corr = df.corr()\n",
    "sns.heatmap(corr, cmap=\"Blues\", annot=True)\n"
   ]
  },
  {
   "cell_type": "code",
   "execution_count": 48,
   "id": "41ba7461",
   "metadata": {},
   "outputs": [
    {
     "data": {
      "image/png": "[encoded data removed]",
      "text/plain": [
       "<Figure size 360x360 with 1 Axes>"
      ]
     },
     "metadata": {
      "needs_background": "light"
     },
     "output_type": "display_data"
    }
   ],
   "source": [
    "\n",
    "g = sns.relplot(x=\"AGE\", y=\"Care_1\", kind=\"line\", data=df)\n"
   ]
  },
  {
   "cell_type": "code",
   "execution_count": 41,
   "id": "3f40741b",
   "metadata": {},
   "outputs": [
    {
     "data": {
      "text/plain": [
       "22    88\n",
       "25    85\n",
       "24    55\n",
       "19    48\n",
       "26    47\n",
       "28    44\n",
       "27    43\n",
       "23    31\n",
       "34    11\n",
       "29     1\n",
       "Name: AGE, dtype: int64"
      ]
     },
     "execution_count": 41,
     "metadata": {},
     "output_type": "execute_result"
    }
   ],
   "source": [
    "mask = (df['AGE']< 35) & (df['Care_1'] > 0)\n",
    "new=df[mask]\n",
    "new['AGE'].value_counts()"
   ]
  },
  {
   "cell_type": "markdown",
   "id": "b0b7c3f6",
   "metadata": {},
   "source": [
    "#  ** Modeling & Testing  **"
   ]
  },
  {
   "cell_type": "code",
   "execution_count": 29,
   "id": "5d8a1bca",
   "metadata": {},
   "outputs": [
    {
     "data": {
      "image/png": "[encoded data removed]",
      "text/plain": [
       "<Figure size 1080x720 with 1 Axes>"
      ]
     },
     "metadata": {
      "needs_background": "light"
     },
     "output_type": "display_data"
    }
   ],
   "source": [
    "plt.figure(figsize=(15,10))\n",
    "df['AGE'].value_counts().nlargest(20).plot(kind='bar')\n",
    "plt.xticks(rotation=90)\n",
    "plt.title('Number Of Reservation ')\n",
    "plt.xlabel('AGE')\n",
    "plt.ylabel(' Reservation ');"
   ]
  },
  {
   "cell_type": "code",
   "execution_count": 34,
   "id": "80c4bd1f",
   "metadata": {},
   "outputs": [
    {
     "data": {
      "image/png": "[encoded data removed]",
      "text/plain": [
       "<Figure size 1080x720 with 1 Axes>"
      ]
     },
     "metadata": {
      "needs_background": "light"
     },
     "output_type": "display_data"
    }
   ],
   "source": [
    "plt.figure(figsize=(15,10))\n",
    "df['Permit_KIND'].value_counts().nlargest(12).plot(kind='bar')\n",
    "plt.xticks(rotation=90)\n",
    "plt.title('Reservation area')\n",
    "plt.xlabel('Area')\n",
    "plt.ylabel('Number Of Reservations');\n"
   ]
  },
  {
   "cell_type": "code",
   "execution_count": 41,
   "id": "43032a8b",
   "metadata": {},
   "outputs": [
    {
     "data": {
      "text/plain": [
       "(3544, 12)"
      ]
     },
     "execution_count": 41,
     "metadata": {},
     "output_type": "execute_result"
    }
   ],
   "source": [
    "df.shape"
   ]
  },
  {
   "cell_type": "code",
   "execution_count": 42,
   "id": "fca19d2f",
   "metadata": {},
   "outputs": [],
   "source": [
    "from imblearn.over_sampling import SMOTE"
   ]
  },
  {
   "cell_type": "code",
   "execution_count": null,
   "id": "cdd6cbd1",
   "metadata": {},
   "outputs": [],
   "source": [
    "oversampling=SMOTE()\n",
    "X,y=oversampling.fit_resample(df.drop(['TenYearCHD'], axis = 1),df['TenYearCHD'])#"
   ]
  },
  {
   "cell_type": "code",
   "execution_count": null,
   "id": "dd463f3d",
   "metadata": {},
   "outputs": [],
   "source": [
    "X.shape"
   ]
  },
  {
   "cell_type": "code",
   "execution_count": null,
   "id": "48fca112",
   "metadata": {},
   "outputs": [],
   "source": [
    "# modeling imports\n",
    "from sklearn.linear_model import LogisticRegression\n",
    "from sklearn.model_selection import train_test_split\n",
    "from sklearn.model_selection import cross_val_score\n",
    "from sklearn.preprocessing import StandardScaler\n",
    "from sklearn import metrics\n",
    "\n",
    "\n",
    "std_scale = StandardScaler()\n",
    "X_train, X_test, y_train, y_test = train_test_split(X,y,\n",
    "                                                    test_size = 0.2, random_state=42)\n",
    "X_train_scaled = std_scale.fit_transform(X_train)#df.drop(['TenYearCHD'], axis = 1)\n",
    "lm = LogisticRegression(C=1000)\n",
    "\n",
    "lm.fit(X_train_scaled ,y_train)\n",
    "lm.score(X_train_scaled ,y_train)\n",
    "X_test_scaled = std_scale.fit_transform(X_test)\n",
    "y_pre=lm.predict(X_test_scaled)\n",
    "print(metrics.recall_score(y_test,y_pre))\n",
    "print(metrics.f1_score(y_test,y_pre))"
   ]
  },
  {
   "cell_type": "code",
   "execution_count": null,
   "id": "bfdc2419",
   "metadata": {},
   "outputs": [],
   "source": []
  }
 ],
 "metadata": {
  "kernelspec": {
   "display_name": "Python 3",
   "language": "python",
   "name": "python3"
  },
  "language_info": {
   "codemirror_mode": {
    "name": "ipython",
    "version": 3
   },
   "file_extension": ".py",
   "mimetype": "text/x-python",
   "name": "python",
   "nbconvert_exporter": "python",
   "pygments_lexer": "ipython3",
   "version": "3.8.8"
  }
 },
 "nbformat": 4,
 "nbformat_minor": 5
}
